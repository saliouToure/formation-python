{
 "cells": [
  {
   "cell_type": "code",
   "execution_count": 2,
   "id": "340fda3e",
   "metadata": {},
   "outputs": [
    {
     "name": "stdout",
     "output_type": "stream",
     "text": [
      "taper votre nom:\n",
      "ALPHA\n",
      "taper votre prenom:\n",
      "DIALLO\n",
      "vous vous appelez:\n",
      " AHPLA OLLAID\n"
     ]
    }
   ],
   "source": [
    "#QUESTION1\n",
    "x=input(\"taper votre nom:\\n\")\n",
    "y=input(\"taper votre prenom:\\n\")\n",
    "print(\"vous vous appelez:\\n\",x[::-1],y[::-1])"
   ]
  },
  {
   "cell_type": "code",
   "execution_count": 3,
   "id": "8949c716",
   "metadata": {},
   "outputs": [
    {
     "data": {
      "text/plain": [
       "615"
      ]
     },
     "execution_count": 3,
     "metadata": {},
     "output_type": "execute_result"
    }
   ],
   "source": [
    "#QUESTION2\n",
    "def question2(n):\n",
    "    x=str(n)\n",
    "    y=int(x*2)+int(x*3)+int(x)\n",
    "    return y\n",
    "question2(5)  \n"
   ]
  },
  {
   "cell_type": "code",
   "execution_count": 4,
   "id": "4bf4fb8d",
   "metadata": {},
   "outputs": [
    {
     "name": "stdout",
     "output_type": "stream",
     "text": [
      "[2002, 2009, 2016, 2023, 2037, 2044, 2051, 2058, 2072, 2079, 2086, 2093, 2107, 2114, 2121, 2128, 2142, 2149, 2156, 2163, 2177, 2184, 2191, 2198, 2212, 2219, 2226, 2233, 2247, 2254, 2261, 2268, 2282, 2289, 2296, 2303, 2317, 2324, 2331, 2338, 2352, 2359, 2366, 2373, 2387, 2394, 2401, 2408, 2422, 2429, 2436, 2443, 2457, 2464, 2471, 2478, 2492, 2499, 2506, 2513, 2527, 2534, 2541, 2548, 2562, 2569, 2576, 2583, 2597, 2604, 2611, 2618, 2632, 2639, 2646, 2653, 2667, 2674, 2681, 2688, 2702, 2709, 2716, 2723, 2737, 2744, 2751, 2758, 2772, 2779, 2786, 2793, 2807, 2814, 2821, 2828, 2842, 2849, 2856, 2863, 2877, 2884, 2891, 2898, 2912, 2919, 2926, 2933, 2947, 2954, 2961, 2968, 2982, 2989, 2996, 3003, 3017, 3024, 3031, 3038, 3052, 3059, 3066, 3073, 3087, 3094, 3101, 3108, 3122, 3129, 3136, 3143, 3157, 3164, 3171, 3178, 3192, 3199]\n"
     ]
    }
   ],
   "source": [
    "#QUESTION4\n",
    "l=[]\n",
    "for i in range(2000,3201):\n",
    "    if i%7==0 and i%5!=0:\n",
    "        l.append(i)\n",
    "print(l)\n"
   ]
  },
  {
   "cell_type": "code",
   "execution_count": 5,
   "id": "89fe2f27",
   "metadata": {},
   "outputs": [
    {
     "data": {
      "text/plain": [
       "40320"
      ]
     },
     "execution_count": 5,
     "metadata": {},
     "output_type": "execute_result"
    }
   ],
   "source": [
    "#QUESTION5\n",
    "def fact(n):\n",
    "    y=1\n",
    "    for i in range(n,1,-1):\n",
    "        y=y*i\n",
    "    return y\n",
    "\n",
    "fact(8)"
   ]
  },
  {
   "cell_type": "code",
   "execution_count": 6,
   "id": "50841aa1",
   "metadata": {},
   "outputs": [
    {
     "data": {
      "text/plain": [
       "'hlota'"
      ]
     },
     "execution_count": 6,
     "metadata": {},
     "output_type": "execute_result"
    }
   ],
   "source": [
    "#QUESTION6\n",
    "def exo6(ch):\n",
    "    y=\"\"\n",
    "    for i,ch in enumerate(ch):\n",
    "        if i%2==0:\n",
    "            y=y+ch\n",
    "    return y\n",
    "\n",
    "exo6(\"hello team\")"
   ]
  },
  {
   "cell_type": "code",
   "execution_count": 7,
   "id": "cd286634",
   "metadata": {},
   "outputs": [
    {
     "data": {
      "text/plain": [
       "2500.0"
      ]
     },
     "execution_count": 7,
     "metadata": {},
     "output_type": "execute_result"
    }
   ],
   "source": [
    "#QUESTION7\n",
    "def reducteur(prix):\n",
    "    if prix>=500:\n",
    "        resultat=prix-(prix*0.5)\n",
    "    elif prix>=200 and prix<500:\n",
    "        resultat=prix-(prix*0.3)\n",
    "    else:\n",
    "        resultat=prix-(prix*0.1)\n",
    "    return resultat\n",
    "\n",
    "reducteur(5000)"
   ]
  },
  {
   "cell_type": "code",
   "execution_count": 11,
   "id": "8250abe8",
   "metadata": {},
   "outputs": [
    {
     "name": "stdout",
     "output_type": "stream",
     "text": [
      "bonsoir\n"
     ]
    }
   ],
   "source": [
    "print(\"bonsoir\")"
   ]
  },
  {
   "cell_type": "code",
   "execution_count": 15,
   "id": "6c90863e",
   "metadata": {},
   "outputs": [
    {
     "name": "stdout",
     "output_type": "stream",
     "text": [
      "taper la valeur de a:10\n",
      "taper la valeur de b10\n",
      "taper la valeur de c10\n",
      "[10.0, 10.0, 10.0]\n"
     ]
    }
   ],
   "source": [
    "l=[]\n",
    "a=float(input(\"taper la valeur de a:\"))\n",
    "b=float(input(\"taper la valeur de b\"))\n",
    "c=float(input(\"taper la valeur de c\"))\n",
    "l.append(a)\n",
    "l.append(b)\n",
    "l.append(c)\n",
    "print(l)\n",
    "if a<b<c:\n",
    "    print(a)\n",
    "elif a>b>c:\n",
    "    print(c)\n",
    "elif b<a<c:\n",
    "    print(b)\n",
    "\n",
    "    \n",
    "    \n",
    "\n",
    "    "
   ]
  },
  {
   "cell_type": "code",
   "execution_count": null,
   "id": "9a8eabe9",
   "metadata": {},
   "outputs": [],
   "source": []
  }
 ],
 "metadata": {
  "kernelspec": {
   "display_name": "Python 3 (ipykernel)",
   "language": "python",
   "name": "python3"
  },
  "language_info": {
   "codemirror_mode": {
    "name": "ipython",
    "version": 3
   },
   "file_extension": ".py",
   "mimetype": "text/x-python",
   "name": "python",
   "nbconvert_exporter": "python",
   "pygments_lexer": "ipython3",
   "version": "3.9.7"
  }
 },
 "nbformat": 4,
 "nbformat_minor": 5
}
